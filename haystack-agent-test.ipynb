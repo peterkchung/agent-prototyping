{
 "cells": [
  {
   "cell_type": "code",
   "execution_count": null,
   "metadata": {},
   "outputs": [],
   "source": [
    "import os\n",
    "from haystack.nodes import PromptNode\n",
    "from haystack.agents.memory import ConversationSummaryMemory\n",
    "from haystack.agents.conversational import ConversationalAgent\n",
    "\n",
    "# https://haystack.deepset.ai/community"
   ]
  },
  {
   "cell_type": "code",
   "execution_count": null,
   "metadata": {},
   "outputs": [],
   "source": [
    "\"\"\"\n",
    "Model instantiation with Haystack node.\n",
    "\"\"\"\n",
    "\n",
    "model_api_key = os.getenv(\"HF_API_KEY\")\n",
    "\n",
    "prompt_node = PromptNode(\n",
    "    model_name_or_path=\"HuggingFaceH4/zephyr-7b-beta\",\n",
    "    api_key=model_api_key,\n",
    "    max_length=256,\n",
    "    stop_words=[\"Human\"]\n",
    ")"
   ]
  },
  {
   "cell_type": "code",
   "execution_count": null,
   "metadata": {},
   "outputs": [],
   "source": [
    "\"\"\"\n",
    "Working memory for the agent. 'Summary' stores summaries of the conversation elements.\n",
    "\"\"\"\n",
    "\n",
    "summary_memory = ConversationSummaryMemory(prompt_node)\n",
    "\n",
    "conversational_agent = ConversationalAgent(prompt_node=prompt_node, memory=summary_memory)"
   ]
  },
  {
   "cell_type": "code",
   "execution_count": null,
   "metadata": {},
   "outputs": [],
   "source": [
    "# Start the conversation.\n",
    "conversational_agent.run(\"Tell me three most interesting things about Istanbul, Turkey\")"
   ]
  },
  {
   "cell_type": "code",
   "execution_count": null,
   "metadata": {},
   "outputs": [],
   "source": [
    "# Expand on the conversation.\n",
    "conversational_agent.run(\"Can you elaborate on the second item?\")"
   ]
  },
  {
   "cell_type": "code",
   "execution_count": null,
   "metadata": {},
   "outputs": [],
   "source": [
    "# Task the agent based on the conversation.\n",
    "conversational_agent.run(\"Can you turn this info into a twitter thread?\")"
   ]
  },
  {
   "cell_type": "code",
   "execution_count": null,
   "metadata": {},
   "outputs": [],
   "source": [
    "\"\"\"\n",
    "* At any point during the chat, you can use `load()` function to check the chat summary:\n",
    "\n",
    "    print(conversational_agent.memory.load())\n",
    "\n",
    "* To delete the whole chat history, call `clear()` method:\n",
    "\n",
    "    conversational_agent.memory.clear()\n",
    "\"\"\" "
   ]
  }
 ],
 "metadata": {
  "language_info": {
   "name": "python"
  }
 },
 "nbformat": 4,
 "nbformat_minor": 2
}
