{
 "cells": [
  {
   "cell_type": "code",
   "execution_count": null,
   "metadata": {},
   "outputs": [],
   "source": [
    "\"\"\"\n",
    "Help me write a blog post no longer than 1,000 words.\n",
    "\n",
    "The Tool should be able to do 3 things:\n",
    "\n",
    "-   research a topic on the web\n",
    "-   extact specific information from documents I provide\n",
    "-   write a blog post from the research and documents\n",
    "\n",
    "\"\"\""
   ]
  },
  {
   "cell_type": "code",
   "execution_count": 2,
   "metadata": {},
   "outputs": [
    {
     "data": {
      "text/plain": [
       "True"
      ]
     },
     "execution_count": 2,
     "metadata": {},
     "output_type": "execute_result"
    }
   ],
   "source": [
    "\"\"\"\n",
    "    ConversationalAgent with three tools:\n",
    "    -   WebSearch\n",
    "    -   DocumentSearch\n",
    "    -   BlogPostWriter\n",
    "\n",
    "\"\"\"\n",
    "import os\n",
    "from dotenv import load_dotenv\n",
    "load_dotenv()"
   ]
  },
  {
   "cell_type": "code",
   "execution_count": 5,
   "metadata": {},
   "outputs": [],
   "source": [
    "from haystack.nodes import WebRetriever, PromptTemplate, PromptNode\n",
    "from haystack.pipelines import WebQAPipeline\n",
    "\n",
    "# WebRetriever tool object\n",
    "retriever = WebRetriever(\n",
    "    api_key = os.getenv(\"SERPAPI_API_KEY\"),\n",
    "    search_engine_provider = \"SerpAPI\",\n",
    "    mode  = \"raw_documents\"\n",
    ")\n",
    "\n",
    "# Prompt to instruct the LLM\n",
    "prompt_template = PromptTemplate(\n",
    "    prompt= \"\"\"\n",
    "    Synthesize a comprehensive answer from a web search for the given question.\n",
    "    Provide a clear and concise response that summarizes the key points and information presented in the search.\n",
    "    Your answer should be concise and be no longer than 500 words.\n",
    "    \\n\\n Search results: {join(documents)} \\n\\n Question: {query} \\n\\n Answer:\"\"\",\n",
    ")\n",
    "\n",
    "# Insantiate the LLM with URI, API key, and prompt template\n",
    "prompt_node = PromptNode(\n",
    "    model_name_or_path = \"mistralai/Mixtral-8x7B-Instruct-v0.1\",\n",
    "    api_key = os.getenv(\"HF_TOKEN\"),\n",
    "    default_prompt_template = prompt_template,\n",
    "    model_kwargs = {\n",
    "        \"max_new_tokens\": 1000,\n",
    "        \"context_length\": 2500 \n",
    "    },\n",
    ")\n",
    "\n",
    "# Wrap the retriever and prompt node in a pipeline object\n",
    "WebSearchTool = WebQAPipeline(\n",
    "    retriever=retriever,\n",
    "    prompt_node=prompt_node\n",
    ")"
   ]
  },
  {
   "cell_type": "code",
   "execution_count": null,
   "metadata": {},
   "outputs": [],
   "source": [
    "from haystack.nodes import PromptNode\n",
    "from haystack.agents.conversational import ConversationalAgent\n",
    "from haystack.agents.base import Tool\n",
    "\n",
    "# Initialize a PromptNode and the desired tools\n",
    "prompt_node = PromptNode(\"gpt-3.5-turbo\",\n",
    "                         api_key=os.getenv(\"OPENAI_API_KEY\"),\n",
    "                         max_length=512         \n",
    "                    )\n",
    "\n",
    "tools = [Tool(name=\"ExampleTool\", pipeline_or_node=example_tool_node)]\n",
    "\n",
    "# Create the ConversationalAgent instance\n",
    "agent = ConversationalAgent(prompt_node, tools=tools)\n",
    "\n",
    "# Use the agent in a chat application\n",
    "while True:\n",
    "    user_input = input(\"Human (type 'exit' or 'quit' to quit): \")\n",
    "    if user_input.lower() == \"exit\" or user_input.lower() == \"quit\":\n",
    "        break\n",
    "    else:\n",
    "        assistant_response = agent.run(user_input)\n",
    "        print(\"Assistant:\", assistant_response)"
   ]
  },
  {
   "cell_type": "code",
   "execution_count": null,
   "metadata": {},
   "outputs": [],
   "source": [
    "\"\"\"\n",
    "Help me dissect academic research papers.\n",
    "\n",
    "The Tool should be able to do 4 things:\n",
    "\n",
    "-   extract key phrases, sentences, and paragraphs from the research paper\n",
    "-   highlight interesting exhibits, tables, and figures from the research paper\n",
    "-   hihglight the key references and citations from the research paper\n",
    "-   write a short twitter thread about the research paper using the extracted information\n",
    "\n",
    "\"\"\""
   ]
  }
 ],
 "metadata": {
  "kernelspec": {
   "display_name": ".venv",
   "language": "python",
   "name": "python3"
  },
  "language_info": {
   "codemirror_mode": {
    "name": "ipython",
    "version": 3
   },
   "file_extension": ".py",
   "mimetype": "text/x-python",
   "name": "python",
   "nbconvert_exporter": "python",
   "pygments_lexer": "ipython3",
   "version": "3.11.7"
  }
 },
 "nbformat": 4,
 "nbformat_minor": 2
}
