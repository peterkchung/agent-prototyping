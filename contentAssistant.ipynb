{
 "cells": [
  {
   "cell_type": "code",
   "execution_count": null,
   "metadata": {},
   "outputs": [],
   "source": [
    "\"\"\"\n",
    "Help me write a blog post no longer than 1,000 words.\n",
    "\n",
    "The Tool should be able to do 3 things:\n",
    "\n",
    "-   research a topic on the web\n",
    "-   extact specific information from documents I provide\n",
    "-   write a blog post from the research and documents\n",
    "\n",
    "\"\"\""
   ]
  },
  {
   "cell_type": "code",
   "execution_count": null,
   "metadata": {},
   "outputs": [],
   "source": [
    "\"\"\"\n",
    "Help me dissect academic research papers.\n",
    "\n",
    "The Tool should be able to do 4 things:\n",
    "\n",
    "-   extract key phrases, sentences, and paragraphs from the research paper\n",
    "-   highlight interesting exhibits, tables, and figures from the research paper\n",
    "-   hihglight the key references and citations from the research paper\n",
    "-   write a short twitter thread about the research paper using the extracted information\n",
    "\n",
    "\"\"\""
   ]
  }
 ],
 "metadata": {
  "language_info": {
   "name": "python"
  }
 },
 "nbformat": 4,
 "nbformat_minor": 2
}
