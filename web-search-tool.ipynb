{
 "cells": [
  {
   "cell_type": "code",
   "execution_count": 5,
   "metadata": {},
   "outputs": [
    {
     "data": {
      "text/plain": [
       "True"
      ]
     },
     "execution_count": 5,
     "metadata": {},
     "output_type": "execute_result"
    }
   ],
   "source": [
    "from haystack.nodes import PromptNode, WebSearch, PromptTemplate\n",
    "from haystack.agents import Agent, Tool\n",
    "\n",
    "import os\n",
    "from dotenv import load_dotenv\n",
    "load_dotenv()"
   ]
  },
  {
   "cell_type": "code",
   "execution_count": 6,
   "metadata": {},
   "outputs": [],
   "source": [
    "\"\"\"\n",
    "Model instantiation with a PromptNode class.\n",
    "\n",
    "\"\"\"\n",
    "\n",
    "model_api_key = os.getenv(\"HF_API_KEY\")\n",
    "\n",
    "prompt_node = PromptNode(\n",
    "    model_name_or_path = \"HuggingFaceH4/zephyr-7b-beta\",\n",
    "    api_key = model_api_key,\n",
    "    max_length = 256,\n",
    ")"
   ]
  },
  {
   "cell_type": "code",
   "execution_count": 7,
   "metadata": {},
   "outputs": [
    {
     "name": "stderr",
     "output_type": "stream",
     "text": [
      "d:\\Projects\\agent-prototyping\\.venv\\Lib\\site-packages\\haystack\\nodes\\prompt\\prompt_template.py:444: UserWarning: You're using a legacy prompt template 'zero-shot-react', we strongly suggest you use prompts from the official Haystack PromptHub: https://prompthub.deepset.ai/\n",
      "  warnings.warn(\n"
     ]
    }
   ],
   "source": [
    "\"\"\"\n",
    "WebSearch()\n",
    "\n",
    ":param api_key: API key for the search engine provider.\n",
    ":param search_engine_provider: Name of the search engine provider class. The options are \"SerperDev\" (default), \"SearchApi\", \"SerpAPI\", \"BingAPI\" or \"GoogleAPI\"\n",
    ":param search_engine_kwargs: Additional parameters to pass to the search engine provider.\n",
    ":param top_search_results: Number of top search results to be retrieved.\n",
    ":param top_k: Top k documents to be returned by the retriever.\n",
    ":param mode: Whether to return snippets, raw documents, or preprocessed documents. Snippets are the default.\n",
    ":param preprocessor: Optional PreProcessor to be used to split documents into paragraphs. If not provided, the default PreProcessor is used.\n",
    ":param cache_document_store: DocumentStore to be used to cache search results.\n",
    ":param cache_index: Index name to be used to cache search results.\n",
    ":param cache_headers: Headers to be used to cache search results.\n",
    ":param cache_time: Time in seconds to cache search results. Defaults to 24 hours.\n",
    ":param allowed_domains: List of domains to restrict the search to. If not provided, the search is unrestricted.\n",
    ":param link_content_fetcher: LinkContentFetcher to be used to fetch the content from the links. If not provided,\n",
    "the default LinkContentFetcher is used.\n",
    "\n",
    "\"\"\"\n",
    "\n",
    "search_api_key = os.getenv(\"SERPAPI_API_KEY\")\n",
    "\n",
    "search = WebSearch(\n",
    "                api_key = search_api_key,\n",
    "                search_engine_provider = \"SerpAPI\",\n",
    "            )\n",
    "\n",
    "\n",
    "agent = Agent(\n",
    "            prompt_node = prompt_node\n",
    "        )\n",
    "\n",
    "agent.add_tool(\n",
    "\tTool(\n",
    "\t\tname = \"WebSearch\",\n",
    "\t\tpipeline_or_node = search,\n",
    "\t\tdescription = \"Useful when you need to find answers to questions on the internet.\"\n",
    "    ))"
   ]
  },
  {
   "cell_type": "code",
   "execution_count": 13,
   "metadata": {},
   "outputs": [
    {
     "name": "stdout",
     "output_type": "stream",
     "text": [
      "{'callback_manager': <events.events.Events object at 0x2e724337c10>,\n",
      " 'final_answer_pattern': 'Final Answer\\\\s*:\\\\s*(.*)',\n",
      " 'hash': 'd41d8cd98f00b204e9800998ecf8427e',\n",
      " 'last_hash': None,\n",
      " 'max_steps': 8,\n",
      " 'memory': <haystack.agents.memory.no_memory.NoMemory object at 0x000002E724335950>,\n",
      " 'prompt_node': <haystack.nodes.prompt.prompt_node.PromptNode object at 0x000002E724336250>,\n",
      " 'prompt_parameters_resolver': <function react_parameter_resolver at 0x000002E7242FE0C0>,\n",
      " 'prompt_template': PromptTemplate(name=zero-shot-react, prompt_text=You are a helpful and knowledgeable agent. To achieve your goal of answering complex questions correctly, you have access to the following tools:{new_line}{new_line}{tool_names_with_descriptions}{new_line}{new_line}To answer questions, you'll need to go through multiple steps involving step-by-step thinking and selecting appropriate tools and their inputs; tools will respond with observations. When you are ready for a final answer, respond with the `Final Answer:`{new_line}{new_line}Use the following format:{new_line}{new_line}Question: the question to be answered{new_line}Thought: Reason if you have the final answer. If yes, answer the question. If not, find out the missing information needed to answer it.{new_line}Tool: pick one of {tool_names} {new_line}Tool Input: the input for the tool{new_line}Observation: the tool will respond with the result{new_line}...{new_line}Final Answer: the final answer to the question, make it short (1-5 words){new_line}{new_line}Thought, Tool, Tool Input, and Observation steps can be repeated multiple times, but sometimes we can find an answer in the first pass{new_line}---{new_line}{new_line}Question: {query}{new_line}Thought: Let's think step-by-step, I first need to {transcript}, prompt_params=['query', 'tool_names', 'tool_names_with_descriptions', 'transcript']),\n",
      " 'tm': <haystack.agents.base.ToolsManager object at 0x000002E724322E10>}\n",
      "True\n"
     ]
    }
   ],
   "source": [
    "import pprint\n",
    "\n",
    "pprint.pprint(vars(agent))\n",
    "pprint.pprint(agent.has_tool(\"WebSearch\"))"
   ]
  }
 ],
 "metadata": {
  "kernelspec": {
   "display_name": ".venv",
   "language": "python",
   "name": "python3"
  },
  "language_info": {
   "codemirror_mode": {
    "name": "ipython",
    "version": 3
   },
   "file_extension": ".py",
   "mimetype": "text/x-python",
   "name": "python",
   "nbconvert_exporter": "python",
   "pygments_lexer": "ipython3",
   "version": "3.11.7"
  }
 },
 "nbformat": 4,
 "nbformat_minor": 2
}
